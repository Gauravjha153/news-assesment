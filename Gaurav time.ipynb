{
 "cells": [
  {
   "cell_type": "code",
   "execution_count": 4,
   "id": "1f4300f0-5504-4472-9ef8-f1fdfd0c0cca",
   "metadata": {},
   "outputs": [],
   "source": [
    "import requests\n",
    "import json\n"
   ]
  },
  {
   "cell_type": "code",
   "execution_count": 14,
   "id": "4769b4d2-f86b-4e88-abb3-dee4a1e85a12",
   "metadata": {},
   "outputs": [
    {
     "data": {
      "text/plain": [
       "<Response [200]>"
      ]
     },
     "execution_count": 14,
     "metadata": {},
     "output_type": "execute_result"
    }
   ],
   "source": [
    "r = requests.get('https://newsapi.org/v2/top-headlines?country=in&apiKey=52f6f188470b4d6686a7a546e8f7e3d1')\n",
    "r           "
   ]
  },
  {
   "cell_type": "code",
   "execution_count": 15,
   "id": "44f181a4-7d66-4491-ab7a-7f3874cd1cf2",
   "metadata": {},
   "outputs": [
    {
     "data": {
      "text/plain": [
       "b'{\"status\":\"ok\",\"totalResults\":38,\"articles\":[{\"source\":{\"id\":null,\"name\":\"Livemint\"},\"author\":\"Asit Manohar\",\"title\":\"Buy or sell: SBI Life to Grasim \\xe2\\x80\\x94 Vaishali Parekh recommends three stocks to buy today \\xe2\\x80\\x94 April 9 | Mint - Mint\",\"description\":\"Buy or sell stocks: Vaishali Parekh has recommended three stocks to buy today \\xe2\\x80\\x94 SBI Life, Grasim Industries, and Crompton Greaves\",\"url\":\"https://www.livemint.com/market/stock-market-news/buy-or-sell-sbi-life-to-grasim-vaishali-parekh-recommends-three-stocks-to-buy-today-april-9-11712625957957.html\",\"urlToImage\":\"https://www.livemint.com/lm-img/img/2024/04/09/1600x900/Buy_or_sell_stocks_to_buy_today_stock_market_today_1698023021624_1712626226282.jpg\",\"publishedAt\":\"2024-04-09T01:36:56Z\",\"content\":\"Buy or sell stocks for today: Following positive global market sentiments, the Indian stock market ended higher on Monday. Two out of three frontline indices hit a new lifetime high and the market ca\\xe2\\x80\\xa6 [+3230 chars]\"},{\"source\":{\"id\":null,\"name\":\"Moneycontrol\"},\"author\":\"Moneycontrol News\",\"title\":\"Dell launches new XPS 16, XPS 14 laptops in India: Price, key features and more - Moneycontrol\",\"description\":\"The new laptops are powered by the latest Intel Core Ultra processors with integrated artificial intelligence (AI) for enhanced performance and efficiency power the new devices\",\"url\":\"https://www.moneycontrol.com/news/technology/dell-launches-new-xps-16-xps-14-laptops-in-india-price-key-features-and-more-12602671.html\",\"urlToImage\":\"https://images.moneycontrol.com/static-mcnews/2024/04/XPS-16-Light-Lifestyle-2-2-770x433.jpg\",\"publishedAt\":\"2024-04-09T01:32:15Z\",\"content\":\"Dell has expanded its line of laptops in India by launching newAI-enabled consumer PCs in India. The new models include the XPS 14 &amp; 16. Dell says that the new laptops are powered by the latest I\\xe2\\x80\\xa6 [+1771 chars]\"},{\"source\":{\"id\":\"the-times-of-india\",\"name\":\"The Times of India\"},\"author\":\"TOI Lifestyle Desk\",\"title\":\"Daily healthy habits to reduce cancer risk - The Times of India\",\"description\":\"Reducing cancer risk involves lifestyle adjustments like weight management, avoiding tobacco, adopting a healthy diet, sun protection, routine screeni\",\"url\":\"https://timesofindia.indiatimes.com/life-style/health-fitness/health-news/daily-healthy-habits-to-reduce-cancer-risk/articleshow/109141824.cms\",\"urlToImage\":\"https://static.toiimg.com/thumb/msid-109141811,width-1070,height-580,imgsize-1146507,resizemode-75,overlay-toi_sw,pt-32,y_pad-40/photo.jpg\",\"publishedAt\":\"2024-04-09T01:30:00Z\",\"content\":null},{\"source\":{\"id\":null,\"name\":\"The Quint\"},\"author\":\"Raajwrita Dutta\",\"title\":\"Happy Ugadi 2024: Wishes, Greetings, SMS, Images, HD Wallpapers, WhatsApp Status - The Quint\",\"description\":\"Ugadi 2024 is set to be celebrated on Tuesday, 9 April, in different states in India. Here are some Ugadi wishes, greetings, quotes, and WhatsApp status you can share online.\",\"url\":\"https://www.thequint.com/lifestyle/happy-ugadi-2024-wishes-greetings-sms-images-hd-wallpapers-and-whatsapp-status\",\"urlToImage\":\"https://images.thequint.com/thequint%2F2024-04%2F6257a5b8-6933-477d-abe8-72c2f0d055fe%2FiStock_1306497378.jpg\",\"publishedAt\":\"2024-04-09T01:00:00Z\",\"content\":\"The popular festival of Ugadi is celebrated across different parts of India with great joy and enthusiasm. It promises fresh beginnings and brings in new opportunities. Ugadi, popularly known as Yuga\\xe2\\x80\\xa6 [+608 chars]\"},{\"source\":{\"id\":\"the-times-of-india\",\"name\":\"The Times of India\"},\"author\":\"AFP\",\"title\":\"Israel deploys C-Dome defence system for the first time - The Times of India\",\"description\":\"Middle East News: Israel for the first time deployed its ship-mounted defence system, called the C-Dome, against a \\\\\"suspicious\\\\\" target that entered the country\\'s airspa\",\"url\":\"https://timesofindia.indiatimes.com/world/middle-east/israel-deploys-c-dome-defence-system-for-the-first-time/articleshow/109147820.cms\",\"urlToImage\":\"https://static.toiimg.com/thumb/msid-109148806,width-1070,height-580,imgsize-2652988,resizemode-75,overlay-toi_sw,pt-32,y_pad-40/photo.jpg\",\"publishedAt\":\"2024-04-09T00:56:00Z\",\"content\":\"10 superfoods one must have in summers as per Ayurveda\"},{\"source\":{\"id\":null,\"name\":\"Hindustan Times\"},\"author\":\"HT Sports Desk\",\"title\":\"MS Dhoni shares internet-breaking moment with Gautam Gambhir after CSK pound KKR in IPL 2024 - Hindustan Times\",\"description\":\"MS Dhoni warmly embraced his longtime IPL rival Gautam Gambhir after CSK thrashed KKR at the Chepauk in IPL 2024. | Cricket\",\"url\":\"https://www.hindustantimes.com/cricket/ms-dhoni-gautam-gambhir-csk-vs-kkr-ipl-2024-msd-promotes-himself-to-finish-things-off-in-style-internet-breaking-hug-101712604575652.html\",\"urlToImage\":\"https://www.hindustantimes.com/ht-img/img/2024/04/08/1600x900/MixCollage-09-Apr-2024-01-37-AM-3829_1712609523145_1712609530308.jpg\",\"publishedAt\":\"2024-04-09T00:51:21Z\",\"content\":\"\\\\\"It\\'s deafening out here, but I\\'ll try to express,\\\\\" Shreyas Iyer told the official broadcaster after Chennai Super Kings stalwart MS Dhoni lit up the famous MA Chidambaram Stadium for the umpteenth t\\xe2\\x80\\xa6 [+3809 chars]\"},{\"source\":{\"id\":null,\"name\":\"YouTube\"},\"author\":null,\"title\":\"Agriculture experts closely tracking economic impact of avian flu outbreak - NBC Montana\",\"description\":\"Farmers across the country are keeping a close eye on their livestock for signs of H5N1, a highly pathogenic strain of avian influenza that\\'s been present in...\",\"url\":\"https://www.youtube.com/watch?v=KYS-CNfytZI\",\"urlToImage\":\"https://i.ytimg.com/vi/KYS-CNfytZI/hqdefault.jpg\",\"publishedAt\":\"2024-04-09T00:50:17Z\",\"content\":null},{\"source\":{\"id\":null,\"name\":\"The Quint\"},\"author\":\"Shivangani Singh\",\"title\":\"Garena Free Fire MAX Redeem Codes For 9 April 2024: Claim Free Rewards & Weapons - The Quint\",\"description\":\"Claim free rewards and weapons with the latest Garena Free Fire MAX redeem codes for Tuesday, 9 April 2024. Get skins, diamonds, gold, and more.\",\"url\":\"https://www.thequint.com/tech-and-auto/tech-news/garena-free-fire-max-redeem-codes-for-9-april-2024-claim-free-rewards-weapons\",\"urlToImage\":\"https://images.thequint.com/thequint%2F2023-04%2F56479df1-9614-4c82-b401-3597be5f6b94%2Fgarena.jpg?rect=0%2C0%2C1440%2C756\",\"publishedAt\":\"2024-04-09T00:30:00Z\",\"content\":\"The\\xc2\\xa0Garena Free Fire MAX redeem codes\\xc2\\xa0for Tuesday, 9 April 2024, have been updated on the rewards page, reward.ff.garena.com. Players must know that the codes can be used to win freebies like skins, \\xe2\\x80\\xa6 [+459 chars]\"},{\"source\":{\"id\":null,\"name\":\"The Indian Express\"},\"author\":\"Rupsa Chakraborty\",\"title\":\"Maharashtra sees over 3500 cases of mosquito-borne diseases this year - The Indian Express\",\"description\":\"Maharashtra witnessed the highest number of mosquito-borne cases like dengue, malaria, and chikungunya last year, with a staggering 36,857 cases, and this year, the mosquito outbreak is exhibiting similar trends.\",\"url\":\"https://indianexpress.com/article/cities/mumbai/maharashtra-sees-over-3500-cases-of-mosquito-borne-diseases-this-year-9259184/\",\"urlToImage\":\"https://images.indianexpress.com/2024/04/chikun.jpg\",\"publishedAt\":\"2024-04-09T00:01:48Z\",\"content\":\"The BJD has accused the BJP of misusing ECI\\'s name and threatening Odisha officials on poll duty with transfers if they don\\'t support the party. BJD leader Sasmit Patra claimed BJP candidates and lea\\xe2\\x80\\xa6 [+191 chars]\"},{\"source\":{\"id\":\"the-hindu\",\"name\":\"The Hindu\"},\"author\":\"The Hindu\",\"title\":\"How do mosquito bats work? | Explained - The Hindu\",\"description\":null,\"url\":\"https://www.thehindu.com/sci-tech/science/how-do-mosquito-bats-work-explained/article68042488.ece\",\"urlToImage\":null,\"publishedAt\":\"2024-04-08T23:30:00Z\",\"content\":null},{\"source\":{\"id\":null,\"name\":\"Hindustan Times\"},\"author\":\"AFP\",\"title\":\"Israel, Hamas discuss Gaza truce deal amid ongoing war - Hindustan Times\",\"description\":\"Israel is under growing international pressure to agree to a ceasefire, including from its top ally and arms supplier the United States. | World News\",\"url\":\"https://www.hindustantimes.com/world-news/israel-hamas-discuss-gaza-truce-deal-amid-ongoing-war-101712607645725.html\",\"urlToImage\":\"https://www.hindustantimes.com/ht-img/img/2024/04/08/1600x900/ISRAEL-PALESTINIAN-CONFLICT-34_1701522983349_1712607835732.jpg\",\"publishedAt\":\"2024-04-08T20:25:38Z\",\"content\":\"Hamas said Monday it is studying a proposal for a truce and hostage-prisoner swap after talks in Cairo, as Israel\\'s defence minister said it is the right time for a deal, six months into a war with t\\xe2\\x80\\xa6 [+6317 chars]\"},{\"source\":{\"id\":null,\"name\":\"123telugu.com\"},\"author\":null,\"title\":\"Photo Moment: Ram Charan wishes Allu Arjun with a sweet pic featuring Ayaan - 123telugu\",\"description\":\"Telugu cinema news, Movie reviews, OTT News, OTT Release dates, Latest Movie reviews in Telugu, telugu movie reviews, Box office collections\",\"url\":\"https://www.123telugu.com/mnews/photo-moment-ram-charan-wishes-allu-arjun-with-a-sweet-pic-featuring-ayaan.html\",\"urlToImage\":\"https://www.123telugu.com/content/wp-content/themes/123telugu/images/logo.gif\",\"publishedAt\":\"2024-04-08T20:00:00Z\",\"content\":\"Hero Allu Arjun celebrated his birthday on Monday. Fans across the world and film industry well-wishers took to social media and extended heartfelt wishes to the birthday boy. And Bunny\\xe2\\x80\\x99s cousin and \\xe2\\x80\\xa6 [+836 chars]\"},{\"source\":{\"id\":null,\"name\":\"Abplive.com\"},\"author\":\"ABP News Bureau\",\"title\":\"Top Tech News Today: Realme P Series, For India, Launching Soon, Portronics Freedom Fold 3 Wireless Charger Unveiled, More - ABP Live\",\"description\":\"Handset maker Realme India has announced the launch of its latest smartphone lineup, the Realme P series in the coming days.\",\"url\":\"https://news.abplive.com/technology/top-tech-news-today-april-8-realme-p-series-for-india-launching-soon-portronics-freedom-fold-3-wireless-charger-unveiled-1678470\",\"urlToImage\":\"https://feeds.abplive.com/onecms/images/uploaded-images/2024/04/08/3edab591ef201a048971baf24ef8e0ef1712600298705295_original.png?impolicy=abp_cdn&imwidth=1200\",\"publishedAt\":\"2024-04-08T19:28:30Z\",\"content\":\"Realme P Series, For India, Launching Soon\\\\r\\\\nHandset maker Realme India has announced the launch of its latest smartphone lineup, the Realme P series in the coming days. The announcement was made by R\\xe2\\x80\\xa6 [+2377 chars]\"},{\"source\":{\"id\":null,\"name\":\"NDTV News\"},\"author\":null,\"title\":\"In Pics: Total Solar Eclipse\\'s \\'Path Of Totality\\' - NDTV\",\"description\":\"Total Solar Eclipse 2024: A rare total solar eclipse plunged the Pacific coast of Mexico into complete darkness on Monday.\",\"url\":\"https://www.ndtv.com/world-news/in-pics-total-solar-eclipses-path-of-totality-5402037\",\"urlToImage\":\"https://c.ndtvimg.com/2024-04/m56lvj5g_total-solar-eclipse-2024_625x300_09_April_24.jpeg?ver-20240316.08\",\"publishedAt\":\"2024-04-08T18:51:14Z\",\"content\":\"A solar eclipse is an astronomical phenomenon where the Moon passes between the Earth and the Sun\\\\r\\\\nMexico: A rare total solar eclipse in seven years plunged the Pacific coast of Mexico into complete \\xe2\\x80\\xa6 [+1530 chars]\"},{\"source\":{\"id\":null,\"name\":\"Hindustan Times\"},\"author\":\"Dr J.N Pandey\",\"title\":\"Sagittarius Daily Horoscope Today, April 09, 2024 predicts embracing responsibilities - Hindustan Times\",\"description\":\"Read Sagittarius daily horoscope for April 9, 2024, to know your astrological predictions. Your productivity will be up to the mark at the office. | Horoscope\",\"url\":\"https://www.hindustantimes.com/astrology/horoscope/sagittarius-daily-horoscope-today-april-09-2024-predicts-embracing-responsibilities-101712597765771.html\",\"urlToImage\":\"https://www.hindustantimes.com/ht-img/img/2024/04/08/1600x900/WhatsApp_Image_2024-01-04_at_192559_1704390427672_1712601870249.jpeg\",\"publishedAt\":\"2024-04-08T18:46:30Z\",\"content\":\"Sagittarius (22nd November to 21st December)\\\\r\\\\nDaily Horoscope Prediction says, Have a smile on your face as that reflects your confidence. \\\\r\\\\nSagittarius Daily Horoscope Today, April 09, 2024. Some Sa\\xe2\\x80\\xa6 [+3181 chars]\"},{\"source\":{\"id\":null,\"name\":\"The Indian Express\"},\"author\":\"The Indian Express\",\"title\":\"Ravindra Jadeja turns up with three wickets at Chepauk to nick a low-scoring win for CSK against KKR - The Indian Express\",\"description\":null,\"url\":\"https://indianexpress.com/article/sports/ipl/ravindra-jadeja-3-wickets-csk-vs-kkr-ipl-9258577/\",\"urlToImage\":null,\"publishedAt\":\"2024-04-08T18:19:30Z\",\"content\":null},{\"source\":{\"id\":\"the-times-of-india\",\"name\":\"The Times of India\"},\"author\":\"TOI Sports Desk\",\"title\":\"Ruturaj Gaikwad becomes first CSK captain in five years to\\xe2\\x80\\xa6 - The Times of India\",\"description\":\"Cricket News: On Monday at the MA Chidambaram Stadium in Chennai, Chennai Super Kings skipper Ruturaj Gaikwad showcased strong leadership, guiding his team to a sev\",\"url\":\"https://timesofindia.indiatimes.com/sports/cricket/ipl/top-stories/ruturaj-gaikwad-becomes-first-csk-captain-in-five-years-to/articleshow/109142789.cms\",\"urlToImage\":\"https://static.toiimg.com/thumb/msid-109142799,width-1070,height-580,imgsize-64694,resizemode-75,overlay-toi_sw,pt-32,y_pad-40/photo.jpg\",\"publishedAt\":\"2024-04-08T18:03:00Z\",\"content\":null},{\"source\":{\"id\":null,\"name\":\"Livemint\"},\"author\":\"Livemint\",\"title\":\"Eid-al-Fitr 2024 LIVE Updates: Crescent not sighted in Saudi Arabia, Eid Al Fitr now on April 10 | Mint - Mint\",\"description\":\"Eid-al-Fitr 2024 moon sighting LIVE: The festival will be celebrated a day after the sighting of the Shawwal crescent moon. Check date, timing and other details of Eid-al-Fitr here:\",\"url\":\"https://www.livemint.com/news/trends/eidalfitr-2024-moon-sighting-live-updates-india-timings-solar-eclipse-saudi-arabia-pakistan-uae-us-uk-shawwalcrescent-11712583203574.html\",\"urlToImage\":\"https://www.livemint.com/lm-img/img/2024/04/08/1600x900/Ramadan_moon_live_updates_1710165646301_1712583951884.jfif\",\"publishedAt\":\"2024-04-08T17:29:46Z\",\"content\":\"Eid-ul-Fitr 2024 moon sighting LIVE: Eid al-Fitr 2024 is expected to be observed on April 10 or 11 in India. However, it totally depends on the Shawwal crescent moon sighting. Eid al-Fitr or Ramadan \\xe2\\x80\\xa6 [+7604 chars]\"},{\"source\":{\"id\":null,\"name\":\"Moneycontrol\"},\"author\":\"Sunil Shankar Matkar\",\"title\":\"Trade setup for Tuesday: 15 things to know before opening bell - Moneycontrol\",\"description\":\"Based on the OI percentage, a total of 60 stocks were on the short-covering list. These included Godrej Properties, Eicher Motors, Bharat Forge, Balkrishna Industries, and Divis Laboratories.\",\"url\":\"https://www.moneycontrol.com/news/business/markets/trade-setup-for-tuesday-15-things-to-know-before-opening-bell-26-12601751.html\",\"urlToImage\":\"https://images.moneycontrol.com/static-mcnews/2024/03/Share-Market-New-5-2-770x433.jpg\",\"publishedAt\":\"2024-04-08T17:15:02Z\",\"content\":\"Given the market climbing decisively above the previous week\\'s record high and closing above the upward-sloping resistance trendline, experts seem to be looking hopeful for further rally towards the \\xe2\\x80\\xa6 [+8503 chars]\"},{\"source\":{\"id\":\"the-times-of-india\",\"name\":\"The Times of India\"},\"author\":\"Ambika Pandit\",\"title\":\"Keeping Kejriwal\\xe2\\x80\\x99s arrest at heart of LS campaign AAP vows to take warcry \\'jail ka jawab vote sey\\' to all - The Times of India\",\"description\":\"India News: NEW DELHI: On a day, the Aam Aadmi Party launched its campaign from the national capital making Delhi CM Arvind Kejriwal\\'s arrest the core of its Lok .\",\"url\":\"https://timesofindia.indiatimes.com/india/keeping-kejriwals-arrest-at-heart-of-ls-campaign-aap-vows-to-take-warcry-jail-ka-jawab-vote-sey-to-all-corners-of-country/articleshow/109141817.cms\",\"urlToImage\":\"https://static.toiimg.com/thumb/msid-109141817,width-1070,height-580,imgsize-1461381,resizemode-75,overlay-toi_sw,pt-32,y_pad-40/photo.jpg\",\"publishedAt\":\"2024-04-08T16:55:00Z\",\"content\":\"10 superfoods one must have in summers as per Ayurveda\"}]}'"
      ]
     },
     "execution_count": 15,
     "metadata": {},
     "output_type": "execute_result"
    }
   ],
   "source": [
    "r.content"
   ]
  },
  {
   "cell_type": "code",
   "execution_count": 17,
   "id": "0058abb5-cf4c-412a-8670-59a251850675",
   "metadata": {},
   "outputs": [
    {
     "data": {
      "text/plain": [
       "{'status': 'ok',\n",
       " 'totalResults': 38,\n",
       " 'articles': [{'source': {'id': None, 'name': 'Livemint'},\n",
       "   'author': 'Asit Manohar',\n",
       "   'title': 'Buy or sell: SBI Life to Grasim — Vaishali Parekh recommends three stocks to buy today — April 9 | Mint - Mint',\n",
       "   'description': 'Buy or sell stocks: Vaishali Parekh has recommended three stocks to buy today — SBI Life, Grasim Industries, and Crompton Greaves',\n",
       "   'url': 'https://www.livemint.com/market/stock-market-news/buy-or-sell-sbi-life-to-grasim-vaishali-parekh-recommends-three-stocks-to-buy-today-april-9-11712625957957.html',\n",
       "   'urlToImage': 'https://www.livemint.com/lm-img/img/2024/04/09/1600x900/Buy_or_sell_stocks_to_buy_today_stock_market_today_1698023021624_1712626226282.jpg',\n",
       "   'publishedAt': '2024-04-09T01:36:56Z',\n",
       "   'content': 'Buy or sell stocks for today: Following positive global market sentiments, the Indian stock market ended higher on Monday. Two out of three frontline indices hit a new lifetime high and the market ca… [+3230 chars]'},\n",
       "  {'source': {'id': None, 'name': 'Moneycontrol'},\n",
       "   'author': 'Moneycontrol News',\n",
       "   'title': 'Dell launches new XPS 16, XPS 14 laptops in India: Price, key features and more - Moneycontrol',\n",
       "   'description': 'The new laptops are powered by the latest Intel Core Ultra processors with integrated artificial intelligence (AI) for enhanced performance and efficiency power the new devices',\n",
       "   'url': 'https://www.moneycontrol.com/news/technology/dell-launches-new-xps-16-xps-14-laptops-in-india-price-key-features-and-more-12602671.html',\n",
       "   'urlToImage': 'https://images.moneycontrol.com/static-mcnews/2024/04/XPS-16-Light-Lifestyle-2-2-770x433.jpg',\n",
       "   'publishedAt': '2024-04-09T01:32:15Z',\n",
       "   'content': 'Dell has expanded its line of laptops in India by launching newAI-enabled consumer PCs in India. The new models include the XPS 14 &amp; 16. Dell says that the new laptops are powered by the latest I… [+1771 chars]'},\n",
       "  {'source': {'id': 'the-times-of-india', 'name': 'The Times of India'},\n",
       "   'author': 'TOI Lifestyle Desk',\n",
       "   'title': 'Daily healthy habits to reduce cancer risk - The Times of India',\n",
       "   'description': 'Reducing cancer risk involves lifestyle adjustments like weight management, avoiding tobacco, adopting a healthy diet, sun protection, routine screeni',\n",
       "   'url': 'https://timesofindia.indiatimes.com/life-style/health-fitness/health-news/daily-healthy-habits-to-reduce-cancer-risk/articleshow/109141824.cms',\n",
       "   'urlToImage': 'https://static.toiimg.com/thumb/msid-109141811,width-1070,height-580,imgsize-1146507,resizemode-75,overlay-toi_sw,pt-32,y_pad-40/photo.jpg',\n",
       "   'publishedAt': '2024-04-09T01:30:00Z',\n",
       "   'content': None},\n",
       "  {'source': {'id': None, 'name': 'The Quint'},\n",
       "   'author': 'Raajwrita Dutta',\n",
       "   'title': 'Happy Ugadi 2024: Wishes, Greetings, SMS, Images, HD Wallpapers, WhatsApp Status - The Quint',\n",
       "   'description': 'Ugadi 2024 is set to be celebrated on Tuesday, 9 April, in different states in India. Here are some Ugadi wishes, greetings, quotes, and WhatsApp status you can share online.',\n",
       "   'url': 'https://www.thequint.com/lifestyle/happy-ugadi-2024-wishes-greetings-sms-images-hd-wallpapers-and-whatsapp-status',\n",
       "   'urlToImage': 'https://images.thequint.com/thequint%2F2024-04%2F6257a5b8-6933-477d-abe8-72c2f0d055fe%2FiStock_1306497378.jpg',\n",
       "   'publishedAt': '2024-04-09T01:00:00Z',\n",
       "   'content': 'The popular festival of Ugadi is celebrated across different parts of India with great joy and enthusiasm. It promises fresh beginnings and brings in new opportunities. Ugadi, popularly known as Yuga… [+608 chars]'},\n",
       "  {'source': {'id': 'the-times-of-india', 'name': 'The Times of India'},\n",
       "   'author': 'AFP',\n",
       "   'title': 'Israel deploys C-Dome defence system for the first time - The Times of India',\n",
       "   'description': 'Middle East News: Israel for the first time deployed its ship-mounted defence system, called the C-Dome, against a \"suspicious\" target that entered the country\\'s airspa',\n",
       "   'url': 'https://timesofindia.indiatimes.com/world/middle-east/israel-deploys-c-dome-defence-system-for-the-first-time/articleshow/109147820.cms',\n",
       "   'urlToImage': 'https://static.toiimg.com/thumb/msid-109148806,width-1070,height-580,imgsize-2652988,resizemode-75,overlay-toi_sw,pt-32,y_pad-40/photo.jpg',\n",
       "   'publishedAt': '2024-04-09T00:56:00Z',\n",
       "   'content': '10 superfoods one must have in summers as per Ayurveda'},\n",
       "  {'source': {'id': None, 'name': 'Hindustan Times'},\n",
       "   'author': 'HT Sports Desk',\n",
       "   'title': 'MS Dhoni shares internet-breaking moment with Gautam Gambhir after CSK pound KKR in IPL 2024 - Hindustan Times',\n",
       "   'description': 'MS Dhoni warmly embraced his longtime IPL rival Gautam Gambhir after CSK thrashed KKR at the Chepauk in IPL 2024. | Cricket',\n",
       "   'url': 'https://www.hindustantimes.com/cricket/ms-dhoni-gautam-gambhir-csk-vs-kkr-ipl-2024-msd-promotes-himself-to-finish-things-off-in-style-internet-breaking-hug-101712604575652.html',\n",
       "   'urlToImage': 'https://www.hindustantimes.com/ht-img/img/2024/04/08/1600x900/MixCollage-09-Apr-2024-01-37-AM-3829_1712609523145_1712609530308.jpg',\n",
       "   'publishedAt': '2024-04-09T00:51:21Z',\n",
       "   'content': '\"It\\'s deafening out here, but I\\'ll try to express,\" Shreyas Iyer told the official broadcaster after Chennai Super Kings stalwart MS Dhoni lit up the famous MA Chidambaram Stadium for the umpteenth t… [+3809 chars]'},\n",
       "  {'source': {'id': None, 'name': 'YouTube'},\n",
       "   'author': None,\n",
       "   'title': 'Agriculture experts closely tracking economic impact of avian flu outbreak - NBC Montana',\n",
       "   'description': \"Farmers across the country are keeping a close eye on their livestock for signs of H5N1, a highly pathogenic strain of avian influenza that's been present in...\",\n",
       "   'url': 'https://www.youtube.com/watch?v=KYS-CNfytZI',\n",
       "   'urlToImage': 'https://i.ytimg.com/vi/KYS-CNfytZI/hqdefault.jpg',\n",
       "   'publishedAt': '2024-04-09T00:50:17Z',\n",
       "   'content': None},\n",
       "  {'source': {'id': None, 'name': 'The Quint'},\n",
       "   'author': 'Shivangani Singh',\n",
       "   'title': 'Garena Free Fire MAX Redeem Codes For 9 April 2024: Claim Free Rewards & Weapons - The Quint',\n",
       "   'description': 'Claim free rewards and weapons with the latest Garena Free Fire MAX redeem codes for Tuesday, 9 April 2024. Get skins, diamonds, gold, and more.',\n",
       "   'url': 'https://www.thequint.com/tech-and-auto/tech-news/garena-free-fire-max-redeem-codes-for-9-april-2024-claim-free-rewards-weapons',\n",
       "   'urlToImage': 'https://images.thequint.com/thequint%2F2023-04%2F56479df1-9614-4c82-b401-3597be5f6b94%2Fgarena.jpg?rect=0%2C0%2C1440%2C756',\n",
       "   'publishedAt': '2024-04-09T00:30:00Z',\n",
       "   'content': 'The\\xa0Garena Free Fire MAX redeem codes\\xa0for Tuesday, 9 April 2024, have been updated on the rewards page, reward.ff.garena.com. Players must know that the codes can be used to win freebies like skins, … [+459 chars]'},\n",
       "  {'source': {'id': None, 'name': 'The Indian Express'},\n",
       "   'author': 'Rupsa Chakraborty',\n",
       "   'title': 'Maharashtra sees over 3500 cases of mosquito-borne diseases this year - The Indian Express',\n",
       "   'description': 'Maharashtra witnessed the highest number of mosquito-borne cases like dengue, malaria, and chikungunya last year, with a staggering 36,857 cases, and this year, the mosquito outbreak is exhibiting similar trends.',\n",
       "   'url': 'https://indianexpress.com/article/cities/mumbai/maharashtra-sees-over-3500-cases-of-mosquito-borne-diseases-this-year-9259184/',\n",
       "   'urlToImage': 'https://images.indianexpress.com/2024/04/chikun.jpg',\n",
       "   'publishedAt': '2024-04-09T00:01:48Z',\n",
       "   'content': \"The BJD has accused the BJP of misusing ECI's name and threatening Odisha officials on poll duty with transfers if they don't support the party. BJD leader Sasmit Patra claimed BJP candidates and lea… [+191 chars]\"},\n",
       "  {'source': {'id': 'the-hindu', 'name': 'The Hindu'},\n",
       "   'author': 'The Hindu',\n",
       "   'title': 'How do mosquito bats work? | Explained - The Hindu',\n",
       "   'description': None,\n",
       "   'url': 'https://www.thehindu.com/sci-tech/science/how-do-mosquito-bats-work-explained/article68042488.ece',\n",
       "   'urlToImage': None,\n",
       "   'publishedAt': '2024-04-08T23:30:00Z',\n",
       "   'content': None},\n",
       "  {'source': {'id': None, 'name': 'Hindustan Times'},\n",
       "   'author': 'AFP',\n",
       "   'title': 'Israel, Hamas discuss Gaza truce deal amid ongoing war - Hindustan Times',\n",
       "   'description': 'Israel is under growing international pressure to agree to a ceasefire, including from its top ally and arms supplier the United States. | World News',\n",
       "   'url': 'https://www.hindustantimes.com/world-news/israel-hamas-discuss-gaza-truce-deal-amid-ongoing-war-101712607645725.html',\n",
       "   'urlToImage': 'https://www.hindustantimes.com/ht-img/img/2024/04/08/1600x900/ISRAEL-PALESTINIAN-CONFLICT-34_1701522983349_1712607835732.jpg',\n",
       "   'publishedAt': '2024-04-08T20:25:38Z',\n",
       "   'content': \"Hamas said Monday it is studying a proposal for a truce and hostage-prisoner swap after talks in Cairo, as Israel's defence minister said it is the right time for a deal, six months into a war with t… [+6317 chars]\"},\n",
       "  {'source': {'id': None, 'name': '123telugu.com'},\n",
       "   'author': None,\n",
       "   'title': 'Photo Moment: Ram Charan wishes Allu Arjun with a sweet pic featuring Ayaan - 123telugu',\n",
       "   'description': 'Telugu cinema news, Movie reviews, OTT News, OTT Release dates, Latest Movie reviews in Telugu, telugu movie reviews, Box office collections',\n",
       "   'url': 'https://www.123telugu.com/mnews/photo-moment-ram-charan-wishes-allu-arjun-with-a-sweet-pic-featuring-ayaan.html',\n",
       "   'urlToImage': 'https://www.123telugu.com/content/wp-content/themes/123telugu/images/logo.gif',\n",
       "   'publishedAt': '2024-04-08T20:00:00Z',\n",
       "   'content': 'Hero Allu Arjun celebrated his birthday on Monday. Fans across the world and film industry well-wishers took to social media and extended heartfelt wishes to the birthday boy. And Bunny’s cousin and … [+836 chars]'},\n",
       "  {'source': {'id': None, 'name': 'Abplive.com'},\n",
       "   'author': 'ABP News Bureau',\n",
       "   'title': 'Top Tech News Today: Realme P Series, For India, Launching Soon, Portronics Freedom Fold 3 Wireless Charger Unveiled, More - ABP Live',\n",
       "   'description': 'Handset maker Realme India has announced the launch of its latest smartphone lineup, the Realme P series in the coming days.',\n",
       "   'url': 'https://news.abplive.com/technology/top-tech-news-today-april-8-realme-p-series-for-india-launching-soon-portronics-freedom-fold-3-wireless-charger-unveiled-1678470',\n",
       "   'urlToImage': 'https://feeds.abplive.com/onecms/images/uploaded-images/2024/04/08/3edab591ef201a048971baf24ef8e0ef1712600298705295_original.png?impolicy=abp_cdn&imwidth=1200',\n",
       "   'publishedAt': '2024-04-08T19:28:30Z',\n",
       "   'content': 'Realme P Series, For India, Launching Soon\\r\\nHandset maker Realme India has announced the launch of its latest smartphone lineup, the Realme P series in the coming days. The announcement was made by R… [+2377 chars]'},\n",
       "  {'source': {'id': None, 'name': 'NDTV News'},\n",
       "   'author': None,\n",
       "   'title': \"In Pics: Total Solar Eclipse's 'Path Of Totality' - NDTV\",\n",
       "   'description': 'Total Solar Eclipse 2024: A rare total solar eclipse plunged the Pacific coast of Mexico into complete darkness on Monday.',\n",
       "   'url': 'https://www.ndtv.com/world-news/in-pics-total-solar-eclipses-path-of-totality-5402037',\n",
       "   'urlToImage': 'https://c.ndtvimg.com/2024-04/m56lvj5g_total-solar-eclipse-2024_625x300_09_April_24.jpeg?ver-20240316.08',\n",
       "   'publishedAt': '2024-04-08T18:51:14Z',\n",
       "   'content': 'A solar eclipse is an astronomical phenomenon where the Moon passes between the Earth and the Sun\\r\\nMexico: A rare total solar eclipse in seven years plunged the Pacific coast of Mexico into complete … [+1530 chars]'},\n",
       "  {'source': {'id': None, 'name': 'Hindustan Times'},\n",
       "   'author': 'Dr J.N Pandey',\n",
       "   'title': 'Sagittarius Daily Horoscope Today, April 09, 2024 predicts embracing responsibilities - Hindustan Times',\n",
       "   'description': 'Read Sagittarius daily horoscope for April 9, 2024, to know your astrological predictions. Your productivity will be up to the mark at the office. | Horoscope',\n",
       "   'url': 'https://www.hindustantimes.com/astrology/horoscope/sagittarius-daily-horoscope-today-april-09-2024-predicts-embracing-responsibilities-101712597765771.html',\n",
       "   'urlToImage': 'https://www.hindustantimes.com/ht-img/img/2024/04/08/1600x900/WhatsApp_Image_2024-01-04_at_192559_1704390427672_1712601870249.jpeg',\n",
       "   'publishedAt': '2024-04-08T18:46:30Z',\n",
       "   'content': 'Sagittarius (22nd November to 21st December)\\r\\nDaily Horoscope Prediction says, Have a smile on your face as that reflects your confidence. \\r\\nSagittarius Daily Horoscope Today, April 09, 2024. Some Sa… [+3181 chars]'},\n",
       "  {'source': {'id': None, 'name': 'The Indian Express'},\n",
       "   'author': 'The Indian Express',\n",
       "   'title': 'Ravindra Jadeja turns up with three wickets at Chepauk to nick a low-scoring win for CSK against KKR - The Indian Express',\n",
       "   'description': None,\n",
       "   'url': 'https://indianexpress.com/article/sports/ipl/ravindra-jadeja-3-wickets-csk-vs-kkr-ipl-9258577/',\n",
       "   'urlToImage': None,\n",
       "   'publishedAt': '2024-04-08T18:19:30Z',\n",
       "   'content': None},\n",
       "  {'source': {'id': 'the-times-of-india', 'name': 'The Times of India'},\n",
       "   'author': 'TOI Sports Desk',\n",
       "   'title': 'Ruturaj Gaikwad becomes first CSK captain in five years to… - The Times of India',\n",
       "   'description': 'Cricket News: On Monday at the MA Chidambaram Stadium in Chennai, Chennai Super Kings skipper Ruturaj Gaikwad showcased strong leadership, guiding his team to a sev',\n",
       "   'url': 'https://timesofindia.indiatimes.com/sports/cricket/ipl/top-stories/ruturaj-gaikwad-becomes-first-csk-captain-in-five-years-to/articleshow/109142789.cms',\n",
       "   'urlToImage': 'https://static.toiimg.com/thumb/msid-109142799,width-1070,height-580,imgsize-64694,resizemode-75,overlay-toi_sw,pt-32,y_pad-40/photo.jpg',\n",
       "   'publishedAt': '2024-04-08T18:03:00Z',\n",
       "   'content': None},\n",
       "  {'source': {'id': None, 'name': 'Livemint'},\n",
       "   'author': 'Livemint',\n",
       "   'title': 'Eid-al-Fitr 2024 LIVE Updates: Crescent not sighted in Saudi Arabia, Eid Al Fitr now on April 10 | Mint - Mint',\n",
       "   'description': 'Eid-al-Fitr 2024 moon sighting LIVE: The festival will be celebrated a day after the sighting of the Shawwal crescent moon. Check date, timing and other details of Eid-al-Fitr here:',\n",
       "   'url': 'https://www.livemint.com/news/trends/eidalfitr-2024-moon-sighting-live-updates-india-timings-solar-eclipse-saudi-arabia-pakistan-uae-us-uk-shawwalcrescent-11712583203574.html',\n",
       "   'urlToImage': 'https://www.livemint.com/lm-img/img/2024/04/08/1600x900/Ramadan_moon_live_updates_1710165646301_1712583951884.jfif',\n",
       "   'publishedAt': '2024-04-08T17:29:46Z',\n",
       "   'content': 'Eid-ul-Fitr 2024 moon sighting LIVE: Eid al-Fitr 2024 is expected to be observed on April 10 or 11 in India. However, it totally depends on the Shawwal crescent moon sighting. Eid al-Fitr or Ramadan … [+7604 chars]'},\n",
       "  {'source': {'id': None, 'name': 'Moneycontrol'},\n",
       "   'author': 'Sunil Shankar Matkar',\n",
       "   'title': 'Trade setup for Tuesday: 15 things to know before opening bell - Moneycontrol',\n",
       "   'description': 'Based on the OI percentage, a total of 60 stocks were on the short-covering list. These included Godrej Properties, Eicher Motors, Bharat Forge, Balkrishna Industries, and Divis Laboratories.',\n",
       "   'url': 'https://www.moneycontrol.com/news/business/markets/trade-setup-for-tuesday-15-things-to-know-before-opening-bell-26-12601751.html',\n",
       "   'urlToImage': 'https://images.moneycontrol.com/static-mcnews/2024/03/Share-Market-New-5-2-770x433.jpg',\n",
       "   'publishedAt': '2024-04-08T17:15:02Z',\n",
       "   'content': \"Given the market climbing decisively above the previous week's record high and closing above the upward-sloping resistance trendline, experts seem to be looking hopeful for further rally towards the … [+8503 chars]\"},\n",
       "  {'source': {'id': 'the-times-of-india', 'name': 'The Times of India'},\n",
       "   'author': 'Ambika Pandit',\n",
       "   'title': \"Keeping Kejriwal’s arrest at heart of LS campaign AAP vows to take warcry 'jail ka jawab vote sey' to all - The Times of India\",\n",
       "   'description': \"India News: NEW DELHI: On a day, the Aam Aadmi Party launched its campaign from the national capital making Delhi CM Arvind Kejriwal's arrest the core of its Lok .\",\n",
       "   'url': 'https://timesofindia.indiatimes.com/india/keeping-kejriwals-arrest-at-heart-of-ls-campaign-aap-vows-to-take-warcry-jail-ka-jawab-vote-sey-to-all-corners-of-country/articleshow/109141817.cms',\n",
       "   'urlToImage': 'https://static.toiimg.com/thumb/msid-109141817,width-1070,height-580,imgsize-1461381,resizemode-75,overlay-toi_sw,pt-32,y_pad-40/photo.jpg',\n",
       "   'publishedAt': '2024-04-08T16:55:00Z',\n",
       "   'content': '10 superfoods one must have in summers as per Ayurveda'}]}"
      ]
     },
     "execution_count": 17,
     "metadata": {},
     "output_type": "execute_result"
    }
   ],
   "source": [
    "data = json.loads(r.content)\n",
    "data"
   ]
  },
  {
   "cell_type": "code",
   "execution_count": 22,
   "id": "55c92322-1603-4dfe-830a-b1e2c095eb47",
   "metadata": {},
   "outputs": [
    {
     "data": {
      "text/plain": [
       "'Buy or sell: SBI Life to Grasim — Vaishali Parekh recommends three stocks to buy today — April 9 | Mint - Mint'"
      ]
     },
     "execution_count": 22,
     "metadata": {},
     "output_type": "execute_result"
    }
   ],
   "source": [
    "data['articles'][0]['title']"
   ]
  },
  {
   "cell_type": "code",
   "execution_count": 23,
   "id": "cfd93dbb-57c4-42c6-aca1-b286eb3127da",
   "metadata": {},
   "outputs": [
    {
     "data": {
      "text/plain": [
       "'Buy or sell stocks: Vaishali Parekh has recommended three stocks to buy today — SBI Life, Grasim Industries, and Crompton Greaves'"
      ]
     },
     "execution_count": 23,
     "metadata": {},
     "output_type": "execute_result"
    }
   ],
   "source": [
    "data['articles'][0]['description']"
   ]
  },
  {
   "cell_type": "code",
   "execution_count": 24,
   "id": "d85aa9bd-a407-43ed-a40a-b241a8ddfc71",
   "metadata": {},
   "outputs": [
    {
     "data": {
      "text/plain": [
       "'https://www.livemint.com/market/stock-market-news/buy-or-sell-sbi-life-to-grasim-vaishali-parekh-recommends-three-stocks-to-buy-today-april-9-11712625957957.html'"
      ]
     },
     "execution_count": 24,
     "metadata": {},
     "output_type": "execute_result"
    }
   ],
   "source": [
    "data['articles'][0]['url']"
   ]
  },
  {
   "cell_type": "code",
   "execution_count": 25,
   "id": "c4cba2fd-8a8d-4669-af87-d6f160de7ff7",
   "metadata": {},
   "outputs": [
    {
     "data": {
      "text/plain": [
       "'Buy or sell stocks for today: Following positive global market sentiments, the Indian stock market ended higher on Monday. Two out of three frontline indices hit a new lifetime high and the market ca… [+3230 chars]'"
      ]
     },
     "execution_count": 25,
     "metadata": {},
     "output_type": "execute_result"
    }
   ],
   "source": [
    "data['articles'][0]['content']"
   ]
  },
  {
   "cell_type": "code",
   "execution_count": 30,
   "id": "9dd259e8-71a9-4a01-b8d1-e35b2772e3df",
   "metadata": {},
   "outputs": [
    {
     "name": "stdout",
     "output_type": "stream",
     "text": [
      "Buy or sell: SBI Life to Grasim — Vaishali Parekh recommends three stocks to buy today — April 9 | Mint - Mint\n",
      "Dell launches new XPS 16, XPS 14 laptops in India: Price, key features and more - Moneycontrol\n",
      "Daily healthy habits to reduce cancer risk - The Times of India\n",
      "Happy Ugadi 2024: Wishes, Greetings, SMS, Images, HD Wallpapers, WhatsApp Status - The Quint\n",
      "Israel deploys C-Dome defence system for the first time - The Times of India\n",
      "MS Dhoni shares internet-breaking moment with Gautam Gambhir after CSK pound KKR in IPL 2024 - Hindustan Times\n",
      "Agriculture experts closely tracking economic impact of avian flu outbreak - NBC Montana\n",
      "Garena Free Fire MAX Redeem Codes For 9 April 2024: Claim Free Rewards & Weapons - The Quint\n",
      "Maharashtra sees over 3500 cases of mosquito-borne diseases this year - The Indian Express\n",
      "How do mosquito bats work? | Explained - The Hindu\n"
     ]
    }
   ],
   "source": [
    "for i in range(10):\n",
    "    News = data['articles'][i]['title']\n",
    "    print (News)"
   ]
  },
  {
   "cell_type": "code",
   "execution_count": 31,
   "id": "676a8e36-1e1d-4b41-8114-381d6fa4dce6",
   "metadata": {},
   "outputs": [
    {
     "name": "stdout",
     "output_type": "stream",
     "text": [
      "News 1 : Buy or sell: SBI Life to Grasim — Vaishali Parekh recommends three stocks to buy today — April 9 | Mint - Mint\n",
      "News 2 : Dell launches new XPS 16, XPS 14 laptops in India: Price, key features and more - Moneycontrol\n",
      "News 3 : Daily healthy habits to reduce cancer risk - The Times of India\n",
      "News 4 : Happy Ugadi 2024: Wishes, Greetings, SMS, Images, HD Wallpapers, WhatsApp Status - The Quint\n",
      "News 5 : Israel deploys C-Dome defence system for the first time - The Times of India\n",
      "News 6 : MS Dhoni shares internet-breaking moment with Gautam Gambhir after CSK pound KKR in IPL 2024 - Hindustan Times\n",
      "News 7 : Agriculture experts closely tracking economic impact of avian flu outbreak - NBC Montana\n",
      "News 8 : Garena Free Fire MAX Redeem Codes For 9 April 2024: Claim Free Rewards & Weapons - The Quint\n",
      "News 9 : Maharashtra sees over 3500 cases of mosquito-borne diseases this year - The Indian Express\n",
      "News 10 : How do mosquito bats work? | Explained - The Hindu\n"
     ]
    }
   ],
   "source": [
    "for i in range(10):\n",
    "    News = data['articles'][i]['title']\n",
    "    print (\"News\",i+1,\":\",News)"
   ]
  },
  {
   "cell_type": "code",
   "execution_count": null,
   "id": "c5ad38f3-7d2e-453b-93ab-bd484c93798c",
   "metadata": {},
   "outputs": [],
   "source": []
  }
 ],
 "metadata": {
  "kernelspec": {
   "display_name": "Python 3 (ipykernel)",
   "language": "python",
   "name": "python3"
  },
  "language_info": {
   "codemirror_mode": {
    "name": "ipython",
    "version": 3
   },
   "file_extension": ".py",
   "mimetype": "text/x-python",
   "name": "python",
   "nbconvert_exporter": "python",
   "pygments_lexer": "ipython3",
   "version": "3.11.2"
  }
 },
 "nbformat": 4,
 "nbformat_minor": 5
}
